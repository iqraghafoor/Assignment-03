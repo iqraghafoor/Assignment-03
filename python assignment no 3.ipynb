{
 "cells": [
  {
   "cell_type": "code",
   "execution_count": 1,
   "id": "9e8ad38d",
   "metadata": {},
   "outputs": [
    {
     "name": "stdout",
     "output_type": "stream",
     "text": [
      "Twinkle, twinkle, little star,\n",
      "\tHow I wonder what you are!\n",
      "\t\tUp above the world so high,\n",
      "\t\tLike a diamond in the sky.\n",
      "Twinkle, twinkle, little star,\n",
      "\tHow I wonder what you are\n"
     ]
    }
   ],
   "source": [
    "#Write a Python program to print the following string in a specific format (see the\n",
    "#output).\n",
    "\n",
    "#Twinkle, twinkle, little star,\n",
    "#How I wonder what you are!\n",
    "#Up above the world so high,\n",
    "#Like a diamond in the sky.\n",
    "\n",
    "#Twinkle, twinkle, little star,\n",
    "#How I wonder what you are\n",
    "\n",
    "print(\"Twinkle, twinkle, little star,\\n\\tHow I wonder what you are!\\n\\t\\tUp above the world so high,\\n\\t\\tLike a diamond in the sky.\\nTwinkle, twinkle, little star,\\n\\tHow I wonder what you are\")"
   ]
  },
  {
   "cell_type": "code",
   "execution_count": 2,
   "id": "8686fa3b",
   "metadata": {},
   "outputs": [
    {
     "name": "stdout",
     "output_type": "stream",
     "text": [
      "Python version\n",
      "3.8.8 (default, Apr 13 2021, 15:08:03) [MSC v.1916 64 bit (AMD64)]\n"
     ]
    }
   ],
   "source": [
    "#Write a Python program to get the Python version you are using\n",
    "\n",
    "import sys\n",
    "print(\"Python version\")\n",
    "print (sys.version)"
   ]
  },
  {
   "cell_type": "code",
   "execution_count": 3,
   "id": "12407fb6",
   "metadata": {},
   "outputs": [
    {
     "name": "stdout",
     "output_type": "stream",
     "text": [
      "Current date and time : \n",
      "2021-10-24 04:23:08\n"
     ]
    }
   ],
   "source": [
    "#Write a Python program to display the current date and time.\n",
    "\n",
    "import datetime\n",
    "now = datetime.datetime.now()\n",
    "print (\"Current date and time : \")\n",
    "print (now.strftime(\"%Y-%m-%d %H:%M:%S\"))\n"
   ]
  },
  {
   "cell_type": "code",
   "execution_count": 4,
   "id": "858e753e",
   "metadata": {},
   "outputs": [
    {
     "name": "stdout",
     "output_type": "stream",
     "text": [
      "Enter the value of Radius of a circle5\n",
      "Area of a Circle is : 78.5\n"
     ]
    }
   ],
   "source": [
    "#Write a Python program which accepts the radius of a circle from the user and compute the area.\n",
    "\n",
    "Radius = int(input(\"Enter the value of Radius of a circle\"))\n",
    "Area = 3.14*(Radius)**2\n",
    "print(\"Area of a Circle is :\" , Area)"
   ]
  },
  {
   "cell_type": "code",
   "execution_count": 3,
   "id": "61f106c1",
   "metadata": {},
   "outputs": [
    {
     "name": "stdout",
     "output_type": "stream",
     "text": [
      "Enter First Name Iqra\n",
      "Enter Last Name Ghafoor\n",
      "Ghafoor Iqra\n"
     ]
    }
   ],
   "source": [
    "#Write a Python program which accepts the user's first and last name and print them in\n",
    "#reverse order with a space between them.\n",
    "\n",
    "first_N = input(\"Enter First Name \")\n",
    "second_N = input(\"Enter Last Name \")\n",
    "print(second_N , first_N)"
   ]
  },
  {
   "cell_type": "code",
   "execution_count": 6,
   "id": "cd3f40b9",
   "metadata": {},
   "outputs": [
    {
     "name": "stdout",
     "output_type": "stream",
     "text": [
      "enter first number: 5\n",
      "enter second number: 7\n",
      "sum: 12\n"
     ]
    }
   ],
   "source": [
    "#Write a python program which takes two inputs from user and print them addition\n",
    "a = int(input(\"enter first number: \"))\n",
    "b = int(input(\"enter second number: \"))\n",
    " \n",
    "sum = a + b\n",
    " \n",
    "print(\"sum:\", sum)"
   ]
  },
  {
   "cell_type": "code",
   "execution_count": 7,
   "id": "a27994b2",
   "metadata": {},
   "outputs": [
    {
     "name": "stdout",
     "output_type": "stream",
     "text": [
      "Enter a number: 8\n",
      "Even Number\n"
     ]
    }
   ],
   "source": [
    "# Write a program which take input from user and identify that the given number is even or odd?\n",
    "num = int(input(\"Enter a number: \"))\n",
    "if (num % 2) == 0:\n",
    "    print(\"Even Number\")\n",
    "else:\n",
    "    print(\"Odd Number\")"
   ]
  },
  {
   "cell_type": "code",
   "execution_count": 8,
   "id": "41d379ba",
   "metadata": {},
   "outputs": [
    {
     "data": {
      "text/plain": [
       "10"
      ]
     },
     "execution_count": 8,
     "metadata": {},
     "output_type": "execute_result"
    }
   ],
   "source": [
    "#Write a program which print the length of the list?\n",
    "\n",
    "z = [3,6,9,12,15,18,21,24,27,30]\n",
    "len(z)"
   ]
  },
  {
   "cell_type": "code",
   "execution_count": 1,
   "id": "e486bea5",
   "metadata": {},
   "outputs": [
    {
     "data": {
      "text/plain": [
       "54"
      ]
     },
     "execution_count": 1,
     "metadata": {},
     "output_type": "execute_result"
    }
   ],
   "source": [
    "#Write a Python program to sum all the numeric items in a list?\n",
    "\n",
    "x = [2,5,6,8,10,11,12]\n",
    "sum(x)"
   ]
  },
  {
   "cell_type": "code",
   "execution_count": 12,
   "id": "eca4ec2c",
   "metadata": {},
   "outputs": [
    {
     "data": {
      "text/plain": [
       "61"
      ]
     },
     "execution_count": 12,
     "metadata": {},
     "output_type": "execute_result"
    }
   ],
   "source": [
    "#Write a Python program to get the largest number from a numeric list.\n",
    "\n",
    "a = [12,21,31,41,51,61]\n",
    "max(a)"
   ]
  },
  {
   "cell_type": "code",
   "execution_count": 13,
   "id": "518391be",
   "metadata": {},
   "outputs": [
    {
     "name": "stdout",
     "output_type": "stream",
     "text": [
      "1\n",
      "1\n",
      "2\n",
      "3\n"
     ]
    }
   ],
   "source": [
    "#Take a list, say for example this one:\n",
    "#a = [1, 1, 2, 3, 5, 8, 13, 21, 34, 55, 89]\n",
    "#Write a program that prints out all the elements of the list that are less than 5.\n",
    "\n",
    "\n",
    "a = [1, 1, 2, 3, 5, 8, 13, 21, 34, 55, 89]\n",
    "for numbers in a:\n",
    "    if numbers < 5:\n",
    "        print(numbers)"
   ]
  },
  {
   "cell_type": "code",
   "execution_count": 5,
   "id": "fba51097",
   "metadata": {},
   "outputs": [
    {
     "name": "stdout",
     "output_type": "stream",
     "text": [
      "Enter Marks of the English: 88\n",
      "Enter Marks of the Urdu: 90\n",
      "Enter Marks of the Islamyat: 89\n",
      "Enter Marks of the Maths: 78\n",
      "Enter Marks of the Science: 87\n",
      "Grade: B\n",
      "Total Marks is : 500\n",
      "Obtained Marks is : 432\n",
      "Percentage  is: 86.4\n",
      "Percentage : 86.4 %\n"
     ]
    }
   ],
   "source": [
    "#Write a program which takes 5 inputs from user for different subject’s marks, total it\n",
    "#and generate mark sheet using grades ?\n",
    "English = int(input(\"Enter Marks of the English: \"))\n",
    "Urdu = int(input(\"Enter Marks of the Urdu: \"))\n",
    "Islamyat = int(input(\"Enter Marks of the Islamyat: \"))\n",
    "Maths = int(input(\"Enter Marks of the Maths: \"))\n",
    "Science = int(input(\"Enter Marks of the Science: \"))\n",
    "\n",
    "Total_Marks = 500\n",
    "Obtained_Marks = English + Urdu + Islamyat + Maths + Science\n",
    "Percentage  = ( Obtained_Marks / Total_Marks ) * 100\n",
    "\n",
    "if Percentage  < 100 and Percentage  >=90:\n",
    "    print(\"Grade: A+\")\n",
    "elif Percentage  <90 and Percentage  >=80:\n",
    "    print(\"Grade: B\")\n",
    "elif Percentage  < 80 and Percentage  >=70:\n",
    "    print(\"Grade: C\")\n",
    "elif Percentage  < 70 and Percentage  >=60:\n",
    "    print(\"Grade: D\")\n",
    "elif Percentage < 60 and Percentage >=50:\n",
    "    print(\"Grade:E\")\n",
    "    \n",
    "else:\n",
    "    print(\"Grade: F\")\n",
    "    \n",
    "print(\"Total Marks is :\" , Total_Marks)\n",
    "print(\"Obtained Marks is :\" , Obtained_Marks)\n",
    "print(\"Percentage  is:\" ,Percentage )\n",
    "print(\"Percentage :\" , Percentage ,\"%\")    "
   ]
  },
  {
   "cell_type": "code",
   "execution_count": null,
   "id": "399b61ef",
   "metadata": {},
   "outputs": [],
   "source": []
  }
 ],
 "metadata": {
  "kernelspec": {
   "display_name": "Python 3",
   "language": "python",
   "name": "python3"
  },
  "language_info": {
   "codemirror_mode": {
    "name": "ipython",
    "version": 3
   },
   "file_extension": ".py",
   "mimetype": "text/x-python",
   "name": "python",
   "nbconvert_exporter": "python",
   "pygments_lexer": "ipython3",
   "version": "3.8.8"
  }
 },
 "nbformat": 4,
 "nbformat_minor": 5
}
